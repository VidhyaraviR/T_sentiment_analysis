{
 "cells": [
  {
   "cell_type": "markdown",
   "id": "0c846146",
   "metadata": {},
   "source": [
    "## Twitter Sentimental Analysis"
   ]
  },
  {
   "cell_type": "markdown",
   "id": "9d29d98a",
   "metadata": {},
   "source": [
    "## Table of content"
   ]
  },
  {
   "cell_type": "markdown",
   "id": "23b69254",
   "metadata": {},
   "source": [
    "- Introduction \n",
    "- Problem Definition\n",
    "- About the Dataset\n",
    "- Tools and Libraries\n",
    "- Dataset description\n",
    "- steps\n",
    "- Project Demonstration Video"
   ]
  },
  {
   "cell_type": "markdown",
   "id": "ced8628b",
   "metadata": {},
   "source": [
    "## Introduction"
   ]
  },
  {
   "cell_type": "markdown",
   "id": "95b03257",
   "metadata": {},
   "source": [
    "The classification of sentiments in social media comments is a challenging task that involves the application of machine learning and natural language processing techniques. With the growth of social media, understanding the feelings expressed by users has become essential. In this work, we will approach this problem, collecting and analyzing data from previously classified comments. We will apply pre-processing techniques and experiment with different classification algorithms. Through appropriate metrics, we will evaluate the efficiency of the models. The objective is to understand the feelings present in social media and explore practical applications of this knowledge for companies, institutions and individuals interested in understanding the public's perception. We hope to contribute to informed and strategic decision-making."
   ]
  },
  {
   "cell_type": "markdown",
   "id": "6187dfb7",
   "metadata": {},
   "source": [
    "## Problem Definition"
   ]
  },
  {
   "cell_type": "markdown",
   "id": "f6017b9b",
   "metadata": {},
   "source": [
    "Ranking Sentiments in Twitter Comments"
   ]
  },
  {
   "cell_type": "markdown",
   "id": "e069e7d1",
   "metadata": {},
   "source": [
    "## About the Dataset"
   ]
  },
  {
   "cell_type": "markdown",
   "id": "826ffab2",
   "metadata": {},
   "source": [
    "This is a sentiment analysis dataset from the social network Twitter. Within this set we have some variables, and the task is to evaluate the sentiment of each message published on the social network. There are 4 types of classes in the data set, namely: Positive, Negative, Neutral and Irrelevant."
   ]
  },
  {
   "cell_type": "markdown",
   "id": "4584d1f4",
   "metadata": {},
   "source": [
    "## Tools and Libraries"
   ]
  },
  {
   "cell_type": "markdown",
   "id": "fe481fa5",
   "metadata": {},
   "source": [
    "- Pandas\n",
    "- Numpy\n",
    "- Matplotlib\n",
    "- Seaborn\n",
    "- Sklearn\n",
    "- Joblib"
   ]
  },
  {
   "cell_type": "markdown",
   "id": "6265cbad",
   "metadata": {},
   "source": [
    "## Dataset description"
   ]
  },
  {
   "cell_type": "markdown",
   "id": "37a6aeaf",
   "metadata": {},
   "source": [
    "The dataset used for this project consists of the following columns:\n",
    "- ID\n",
    "- Company \n",
    "- Feelings \n",
    "- Tweet"
   ]
  },
  {
   "cell_type": "markdown",
   "id": "854d1b13",
   "metadata": {},
   "source": [
    "## Steps"
   ]
  },
  {
   "cell_type": "markdown",
   "id": "8a0cf141",
   "metadata": {},
   "source": [
    "- Packages Import\n",
    "- Read the train data\n",
    "- Data Pre-Processing\n",
    "- Exploratory Data Analysis\n",
    "- Word chart of each Sentiment\n",
    "- Train_Test_Split\n",
    "- Model training\n",
    "- Prediction"
   ]
  },
  {
   "cell_type": "code",
   "execution_count": 1,
   "id": "021b563d",
   "metadata": {},
   "outputs": [],
   "source": [
    "# importing libraries\n",
    "import pandas as pd \n",
    "from sklearn.model_selection import train_test_split"
   ]
  },
  {
   "cell_type": "code",
   "execution_count": 2,
   "id": "6d1166b8",
   "metadata": {},
   "outputs": [],
   "source": [
    "# using pandas to read the data\n",
    "column_names=['id','company','feelings','tweet']\n",
    "df=pd.read_csv('twitter_validation.csv',sep=',',names=column_names)"
   ]
  },
  {
   "cell_type": "code",
   "execution_count": 3,
   "id": "7b9a1372",
   "metadata": {},
   "outputs": [
    {
     "data": {
      "text/html": [
       "<div>\n",
       "<style scoped>\n",
       "    .dataframe tbody tr th:only-of-type {\n",
       "        vertical-align: middle;\n",
       "    }\n",
       "\n",
       "    .dataframe tbody tr th {\n",
       "        vertical-align: top;\n",
       "    }\n",
       "\n",
       "    .dataframe thead th {\n",
       "        text-align: right;\n",
       "    }\n",
       "</style>\n",
       "<table border=\"1\" class=\"dataframe\">\n",
       "  <thead>\n",
       "    <tr style=\"text-align: right;\">\n",
       "      <th></th>\n",
       "      <th>id</th>\n",
       "      <th>company</th>\n",
       "      <th>feelings</th>\n",
       "      <th>tweet</th>\n",
       "    </tr>\n",
       "  </thead>\n",
       "  <tbody>\n",
       "    <tr>\n",
       "      <th>0</th>\n",
       "      <td>3364</td>\n",
       "      <td>Facebook</td>\n",
       "      <td>Irrelevant</td>\n",
       "      <td>I mentioned on Facebook that I was struggling ...</td>\n",
       "    </tr>\n",
       "    <tr>\n",
       "      <th>1</th>\n",
       "      <td>352</td>\n",
       "      <td>Amazon</td>\n",
       "      <td>Neutral</td>\n",
       "      <td>BBC News - Amazon boss Jeff Bezos rejects clai...</td>\n",
       "    </tr>\n",
       "    <tr>\n",
       "      <th>2</th>\n",
       "      <td>8312</td>\n",
       "      <td>Microsoft</td>\n",
       "      <td>Negative</td>\n",
       "      <td>@Microsoft Why do I pay for WORD when it funct...</td>\n",
       "    </tr>\n",
       "    <tr>\n",
       "      <th>3</th>\n",
       "      <td>4371</td>\n",
       "      <td>CS-GO</td>\n",
       "      <td>Negative</td>\n",
       "      <td>CSGO matchmaking is so full of closet hacking,...</td>\n",
       "    </tr>\n",
       "    <tr>\n",
       "      <th>4</th>\n",
       "      <td>4433</td>\n",
       "      <td>Google</td>\n",
       "      <td>Neutral</td>\n",
       "      <td>Now the President is slapping Americans in the...</td>\n",
       "    </tr>\n",
       "    <tr>\n",
       "      <th>...</th>\n",
       "      <td>...</td>\n",
       "      <td>...</td>\n",
       "      <td>...</td>\n",
       "      <td>...</td>\n",
       "    </tr>\n",
       "    <tr>\n",
       "      <th>995</th>\n",
       "      <td>4891</td>\n",
       "      <td>GrandTheftAuto(GTA)</td>\n",
       "      <td>Irrelevant</td>\n",
       "      <td>⭐️ Toronto is the arts and culture capital of ...</td>\n",
       "    </tr>\n",
       "    <tr>\n",
       "      <th>996</th>\n",
       "      <td>4359</td>\n",
       "      <td>CS-GO</td>\n",
       "      <td>Irrelevant</td>\n",
       "      <td>tHIS IS ACTUALLY A GOOD MOVE TOT BRING MORE VI...</td>\n",
       "    </tr>\n",
       "    <tr>\n",
       "      <th>997</th>\n",
       "      <td>2652</td>\n",
       "      <td>Borderlands</td>\n",
       "      <td>Positive</td>\n",
       "      <td>Today sucked so it’s time to drink wine n play...</td>\n",
       "    </tr>\n",
       "    <tr>\n",
       "      <th>998</th>\n",
       "      <td>8069</td>\n",
       "      <td>Microsoft</td>\n",
       "      <td>Positive</td>\n",
       "      <td>Bought a fraction of Microsoft today. Small wins.</td>\n",
       "    </tr>\n",
       "    <tr>\n",
       "      <th>999</th>\n",
       "      <td>6960</td>\n",
       "      <td>johnson&amp;johnson</td>\n",
       "      <td>Neutral</td>\n",
       "      <td>Johnson &amp; Johnson to stop selling talc baby po...</td>\n",
       "    </tr>\n",
       "  </tbody>\n",
       "</table>\n",
       "<p>1000 rows × 4 columns</p>\n",
       "</div>"
      ],
      "text/plain": [
       "       id              company    feelings  \\\n",
       "0    3364             Facebook  Irrelevant   \n",
       "1     352               Amazon     Neutral   \n",
       "2    8312            Microsoft    Negative   \n",
       "3    4371                CS-GO    Negative   \n",
       "4    4433               Google     Neutral   \n",
       "..    ...                  ...         ...   \n",
       "995  4891  GrandTheftAuto(GTA)  Irrelevant   \n",
       "996  4359                CS-GO  Irrelevant   \n",
       "997  2652          Borderlands    Positive   \n",
       "998  8069            Microsoft    Positive   \n",
       "999  6960      johnson&johnson     Neutral   \n",
       "\n",
       "                                                 tweet  \n",
       "0    I mentioned on Facebook that I was struggling ...  \n",
       "1    BBC News - Amazon boss Jeff Bezos rejects clai...  \n",
       "2    @Microsoft Why do I pay for WORD when it funct...  \n",
       "3    CSGO matchmaking is so full of closet hacking,...  \n",
       "4    Now the President is slapping Americans in the...  \n",
       "..                                                 ...  \n",
       "995  ⭐️ Toronto is the arts and culture capital of ...  \n",
       "996  tHIS IS ACTUALLY A GOOD MOVE TOT BRING MORE VI...  \n",
       "997  Today sucked so it’s time to drink wine n play...  \n",
       "998  Bought a fraction of Microsoft today. Small wins.  \n",
       "999  Johnson & Johnson to stop selling talc baby po...  \n",
       "\n",
       "[1000 rows x 4 columns]"
      ]
     },
     "execution_count": 3,
     "metadata": {},
     "output_type": "execute_result"
    }
   ],
   "source": [
    "df"
   ]
  },
  {
   "cell_type": "code",
   "execution_count": 4,
   "id": "91b1dae3",
   "metadata": {},
   "outputs": [],
   "source": [
    "train,test= train_test_split(df, train_size=0.7, shuffle=True , random_state=123)\n",
    "train.to_csv(\"Data/Train/Raw/train.csv\",index=False)\n",
    "test.to_csv(\"Data/Test/Raw/test.csv\",index=False)"
   ]
  },
  {
   "cell_type": "code",
   "execution_count": null,
   "id": "77efa88f",
   "metadata": {},
   "outputs": [],
   "source": []
  }
 ],
 "metadata": {
  "kernelspec": {
   "display_name": "Python 3 (ipykernel)",
   "language": "python",
   "name": "python3"
  },
  "language_info": {
   "codemirror_mode": {
    "name": "ipython",
    "version": 3
   },
   "file_extension": ".py",
   "mimetype": "text/x-python",
   "name": "python",
   "nbconvert_exporter": "python",
   "pygments_lexer": "ipython3",
   "version": "3.11.4"
  }
 },
 "nbformat": 4,
 "nbformat_minor": 5
}
